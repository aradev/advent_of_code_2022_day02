{
 "cells": [
  {
   "cell_type": "code",
   "execution_count": null,
   "metadata": {},
   "outputs": [],
   "source": [
    "test_file = \"data-01/test-input.txt\"\n",
    "main_file = \"data-01/input.txt\""
   ]
  },
  {
   "cell_type": "code",
   "execution_count": null,
   "metadata": {},
   "outputs": [],
   "source": [
    "def decode_2_game(raw_line):\n",
    "\n",
    "    line = raw_line.rstrip('\\n').split()\n",
    "\n",
    "    # A for Rock, B for Paper, and C for Scissors\n",
    "    lookup_col_1 = {\"A\": \"Rock\", \"B\": \"Paper\", \"C\": \"Scissors\"}\n",
    "    values = tuple(lookup_col_1.values())\n",
    "    #print(values)\n",
    "    # X means you need to lose, Y means you need to end the round in a draw, and Z means you need to win.\n",
    "    lookup_col_2 = {\"X\": \"Loss\", \"Y\": \"Draw\", \"Z\": \"Win\"}\n",
    "\n",
    "    if lookup_col_2[line[1]] == \"Draw\":\n",
    "        return (lookup_col_1[line[0]], lookup_col_1[line[0]])\n",
    "\n",
    "    if lookup_col_2[line[1]] == \"Win\":\n",
    "         return (\n",
    "            lookup_col_1[line[0]],\n",
    "            values[(values.index(lookup_col_1[line[0]]) + 1) % 3]\n",
    "            )\n",
    "        \n",
    "    return (\n",
    "            lookup_col_1[line[0]],\n",
    "            values[(values.index(lookup_col_1[line[0]]) - 1) % 3]\n",
    "            )\n",
    "\n",
    "\n",
    "print(decode_2_game(\"A X\\n\"))\n",
    "print(decode_2_game(\"A Y\\n\"))\n",
    "print(decode_2_game(\"B Z\\n\"))"
   ]
  },
  {
   "cell_type": "code",
   "execution_count": null,
   "metadata": {},
   "outputs": [],
   "source": [
    "def selection_score(k):\n",
    "    # 1 for Rock, 2 for Paper, and 3 for Scissors)\n",
    "    selection_score_lookup = {\"Rock\": 1, \"Paper\": 2, \"Scissors\": 3}\n",
    "    \n",
    "    return selection_score_lookup[k[1]]\n",
    "\n",
    "\n",
    "print(selection_score(('Rock', 'Rock')))\n",
    "print(selection_score(('Rock', 'Scissors')))"
   ]
  },
  {
   "cell_type": "code",
   "execution_count": null,
   "metadata": {},
   "outputs": [],
   "source": [
    "def game_outcome(k):\n",
    "    if k[0] == k[1]:\n",
    "        return \"Draw\"\n",
    "\n",
    "    losses = {(\"Paper\", \"Rock\"), (\"Rock\", \"Scissors\"), (\"Scissors\", \"Paper\")}\n",
    "    if k in losses:\n",
    "        return \"Loss\"\n",
    "\n",
    "    return \"Win\"\n",
    "\n",
    "print(game_outcome(('Rock', 'Rock')))\n",
    "print(game_outcome(('Rock', 'Scissors')))\n",
    "print(game_outcome(('Paper', 'Scissors')))\n"
   ]
  },
  {
   "cell_type": "code",
   "execution_count": null,
   "metadata": {},
   "outputs": [],
   "source": [
    "def outcome_score(k):\n",
    "    # (0 if you lost, 3 if the round was a draw, and 6 if you won)\n",
    "    outcome_score_lookup = {\"Loss\": 0, \"Draw\": 3, \"Win\": 6}\n",
    "    return outcome_score_lookup[game_outcome(k)]\n",
    "\n",
    "\n",
    "print(outcome_score(('Rock', 'Rock')))\n",
    "print(outcome_score(('Rock', 'Scissors')))\n",
    "print(outcome_score(('Paper', 'Scissors')))"
   ]
  },
  {
   "cell_type": "code",
   "execution_count": null,
   "metadata": {},
   "outputs": [],
   "source": [
    "def challenge2(input_file):\n",
    "    with open(input_file) as f:\n",
    "        lines = f.readlines()\n",
    "    # print(lines)\n",
    "\n",
    "    decoded_games = {\n",
    "        i: decode_2_game(lines[i]) for i in range(len(lines))\n",
    "    }\n",
    "    # print(decoded_games)\n",
    "    \n",
    "    game_selection_scores = {k: selection_score(decoded_games[k])  for k in decoded_games}\n",
    "    # print(game_selection_scores)\n",
    "\n",
    "    game_outcome_scores = {k: outcome_score(decoded_games[k])  for k in decoded_games}\n",
    "    # print(game_outcome_scores)\n",
    "\n",
    "    game_total_score = {k: (game_selection_scores[k] + game_outcome_scores[k])  for k in decoded_games}\n",
    "    # print(game_total_score)\n",
    "\n",
    "    return(sum(game_total_score.values()))\n",
    "\n",
    "\n",
    "\n",
    "challenge2(input_file=test_file)"
   ]
  },
  {
   "cell_type": "code",
   "execution_count": null,
   "metadata": {},
   "outputs": [],
   "source": [
    "challenge2(input_file=main_file)"
   ]
  }
 ],
 "metadata": {
  "kernelspec": {
   "display_name": "Python 3.11.0 ('base')",
   "language": "python",
   "name": "python3"
  },
  "language_info": {
   "codemirror_mode": {
    "name": "ipython",
    "version": 3
   },
   "file_extension": ".py",
   "mimetype": "text/x-python",
   "name": "python",
   "nbconvert_exporter": "python",
   "pygments_lexer": "ipython3",
   "version": "3.11.0"
  },
  "orig_nbformat": 4,
  "vscode": {
   "interpreter": {
    "hash": "d4d1e4263499bec80672ea0156c357c1ee493ec2b1c70f0acce89fc37c4a6abe"
   }
  }
 },
 "nbformat": 4,
 "nbformat_minor": 2
}
